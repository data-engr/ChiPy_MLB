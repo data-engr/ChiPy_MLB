{
 "cells": [
  {
   "cell_type": "code",
   "execution_count": null,
   "metadata": {
    "collapsed": true
   },
   "outputs": [],
   "source": [
    "# Bill Petti URL\n",
    "https://baseballsavant.mlb.com/statcast_search/csv?all=true&hfPT=&hfAB=&hfBBT=&hfPR=&hfZ=&stadium=&hfBBL=&hfNewZones=&hfGT=R%7C&hfC=&hfSea=\",year,\"%7C&hfSit=&player_type=pitcher&hfOuts=&opponent=&pitcher_throws=&batter_stands=&hfSA=&game_date_gt=\",start_date,\"&game_date_lt=\",end_date,\"&team=&position=&hfRO=&home_road=&hfFlag=&metric_1=&hfInn=&min_pitches=0&min_results=0&group_by=name&sort_col=pitches&player_event_sort=h_launch_speed&sort_order=desc&min_abs=0&type=details&\""
   ]
  },
  {
   "cell_type": "code",
   "execution_count": 11,
   "metadata": {
    "collapsed": true
   },
   "outputs": [],
   "source": [
    "# URL Found on my own\n",
    "# groups by player, need to adjust url\n",
    "url = \"https://baseballsavant.mlb.com/statcast_search/csv?all=true&hfPT=&hfAB=&hfBBT=&hfPR=&hfZ=&stadium=&hfBBL=&hfNewZones=&hfGT=R|&hfC=&hfSea=2018|&hfSit=&player_type=pitcher&hfOuts=&opponent=&pitcher_throws=&batter_stands=&hfSA=&game_date_gt=2018-09-21&game_date_lt=2018-09-21&hfInfield=&team=&position=&hfOutfield=&hfRO=&home_road=&hfFlag=&hfPull=&metric_1=&hfInn=&min_pitches=0&min_results=0&group_by=name&sort_col=pitches&player_event_sort=h_launch_speed&sort_order=desc&min_pas=0&type=details&\""
   ]
  },
  {
   "cell_type": "code",
   "execution_count": 13,
   "metadata": {
    "collapsed": true
   },
   "outputs": [],
   "source": [
    "# added venues to filter the data\n",
    "# without filter \"Error: Query Timeout. Please try to limit your...\"\n",
    "# filtered on venue to successful download without error\n",
    "url_venues = \"https://baseballsavant.mlb.com/statcast_search/csv?all=true&hfPT=&hfAB=&hfBBT=&hfPR=&hfZ=&stadium=STL&hfBBL=&hfNewZones=&hfGT=R%7C&hfC=&hfSea=2018%7C&hfSit=&player_type=pitcher&hfOuts=&opponent=&pitcher_throws=&batter_stands=&hfSA=&game_date_gt=2018-09-21&game_date_lt=2018-09-21&hfInfield=&team=&position=&hfOutfield=&hfRO=&home_road=&hfFlag=&hfPull=&metric_1=&metric_1_gt=&metric_1_lt=&hfInn=&min_pitches=0&min_results=0&group_by=name&sort_col=pitches&player_event_sort=h_launch_speed&sort_order=desc&min_pas=0&type=details&\""
   ]
  },
  {
   "cell_type": "code",
   "execution_count": 12,
   "metadata": {},
   "outputs": [
    {
     "name": "stdout",
     "output_type": "stream",
     "text": [
      "                                               error\n",
      "0  Error: Query Timeout. Please try to limit your...\n"
     ]
    }
   ],
   "source": [
    "import pandas as pd\n"
   ]
  },
  {
   "cell_type": "code",
   "execution_count": 14,
   "metadata": {},
   "outputs": [
    {
     "name": "stdout",
     "output_type": "stream",
     "text": [
      "  pitch_type   game_date  release_speed  release_pos_x  release_pos_z  \\\n",
      "0         FF  2018-09-21           96.6        -0.8753         5.4700   \n",
      "1         SL  2018-09-21           84.1        -1.4117         5.1660   \n",
      "2         FT  2018-09-21           94.2        -1.4166         5.1854   \n",
      "3         FT  2018-09-21           93.0        -1.4109         5.2222   \n",
      "4         SL  2018-09-21           83.6        -1.3458         5.2862   \n",
      "\n",
      "       player_name  batter  pitcher     events      description  \\\n",
      "0  Carlos Martinez  446334   593372  strikeout  swinging_strike   \n",
      "1  Carlos Martinez  446334   593372       null  swinging_strike   \n",
      "2  Carlos Martinez  446334   593372       null    called_strike   \n",
      "3  Carlos Martinez  491676   593372  field_out    hit_into_play   \n",
      "4  Carlos Martinez  491676   593372       null  swinging_strike   \n",
      "\n",
      "           ...           home_score  away_score  bat_score  fld_score  \\\n",
      "0          ...                    5           3          3          5   \n",
      "1          ...                    5           3          3          5   \n",
      "2          ...                    5           3          3          5   \n",
      "3          ...                    5           3          3          5   \n",
      "4          ...                    5           3          3          5   \n",
      "\n",
      "   post_away_score post_home_score post_bat_score post_fld_score  \\\n",
      "0                3               5              3              5   \n",
      "1                3               5              3              5   \n",
      "2                3               5              3              5   \n",
      "3                3               5              3              5   \n",
      "4                3               5              3              5   \n",
      "\n",
      "  if_fielding_alignment of_fielding_alignment  \n",
      "0              Standard              Standard  \n",
      "1              Standard              Standard  \n",
      "2              Standard              Standard  \n",
      "3              Standard              Standard  \n",
      "4              Standard              Standard  \n",
      "\n",
      "[5 rows x 89 columns]\n"
     ]
    }
   ],
   "source": [
    "data = pd.read_csv(url_venues)\n",
    "print(data.head())"
   ]
  }
 ],
 "metadata": {
  "kernelspec": {
   "display_name": "Python 3",
   "language": "python",
   "name": "python3"
  },
  "language_info": {
   "codemirror_mode": {
    "name": "ipython",
    "version": 3
   },
   "file_extension": ".py",
   "mimetype": "text/x-python",
   "name": "python",
   "nbconvert_exporter": "python",
   "pygments_lexer": "ipython3",
   "version": "3.6.3"
  }
 },
 "nbformat": 4,
 "nbformat_minor": 2
}
