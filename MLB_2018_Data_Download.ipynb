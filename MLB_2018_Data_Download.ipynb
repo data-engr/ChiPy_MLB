{
 "cells": [
  {
   "cell_type": "code",
   "execution_count": 1,
   "metadata": {
    "collapsed": true
   },
   "outputs": [],
   "source": [
    "import pandas as pd"
   ]
  },
  {
   "cell_type": "code",
   "execution_count": 11,
   "metadata": {},
   "outputs": [],
   "source": [
    "schedule_2018 = \"C:/Users/Nick/ChiPy MLB Project/Schedule_2018.csv\""
   ]
  },
  {
   "cell_type": "code",
   "execution_count": 23,
   "metadata": {},
   "outputs": [
    {
     "name": "stdout",
     "output_type": "stream",
     "text": [
      "         Date\n",
      "0  2018-03-29\n",
      "1  2018-03-30\n",
      "2  2018-03-31\n",
      "3  2018-04-01\n",
      "4  2018-04-02\n"
     ]
    }
   ],
   "source": [
    "schedule = pd.read_csv(schedule_2018)\n",
    "print(schedule.head())"
   ]
  },
  {
   "cell_type": "code",
   "execution_count": 62,
   "metadata": {},
   "outputs": [],
   "source": [
    "# Concatenate URL with variables from Schedule dataset\n",
    "# needed to filter on team so request did not time out\n",
    "url = \"https://baseballsavant.mlb.com/statcast_search/csv?all=true&hfPT=&hfAB=&hfBBT=&hfPR=&hfZ=&stadium=&hfBBL=&hfNewZones=&hfGT=R|&hfC=&hfSea=2018|&hfSit=&player_type=pitcher&hfOuts=&opponent=&pitcher_throws=&batter_stands=&hfSA=&game_date_gt=\"+schedule['Date'][0]+\"&game_date_lt=\"+schedule['Date'][1]+\"&hfInfield=&team=STL&position=&hfOutfield=&hfRO=&home_road=&hfFlag=&hfPull=&metric_1=&hfInn=&min_pitches=0&min_results=0&group_by=name&sort_col=pitches&player_event_sort=h_launch_speed&sort_order=desc&min_pas=0&type=details&\""
   ]
  },
  {
   "cell_type": "code",
   "execution_count": 64,
   "metadata": {},
   "outputs": [
    {
     "name": "stdout",
     "output_type": "stream",
     "text": [
      "  pitch_type   game_date  release_speed  release_pos_x  release_pos_z  \\\n",
      "0         CU  2018-03-29           76.3        -2.0011         5.5600   \n",
      "1         FT  2018-03-29           90.6        -2.1734         5.5095   \n",
      "2         FF  2018-03-29           92.0        -1.9848         5.5893   \n",
      "3         SL  2018-03-29           82.6        -1.9349         5.3445   \n",
      "4         FF  2018-03-29           90.7        -1.7813         5.5169   \n",
      "\n",
      "      player_name  batter  pitcher                     events  \\\n",
      "0  Sam Tuivailala  501571   592815  grounded_into_double_play   \n",
      "1  Sam Tuivailala  501571   592815                       null   \n",
      "2  Sam Tuivailala  501571   592815                       null   \n",
      "3  Sam Tuivailala  608700   592815                     single   \n",
      "4  Sam Tuivailala  408236   592815                       walk   \n",
      "\n",
      "           description          ...           home_score  away_score  \\\n",
      "0        hit_into_play          ...                    9           4   \n",
      "1                 ball          ...                    9           4   \n",
      "2                 foul          ...                    9           4   \n",
      "3  hit_into_play_score          ...                    8           4   \n",
      "4                 ball          ...                    8           4   \n",
      "\n",
      "   bat_score  fld_score  post_away_score post_home_score post_bat_score  \\\n",
      "0          9          4                4               9              9   \n",
      "1          9          4                4               9              9   \n",
      "2          9          4                4               9              9   \n",
      "3          8          4                4               8              8   \n",
      "4          8          4                4               8              8   \n",
      "\n",
      "  post_fld_score if_fielding_alignment of_fielding_alignment  \n",
      "0              4              Standard              Standard  \n",
      "1              4              Standard              Standard  \n",
      "2              4              Standard              Standard  \n",
      "3              4             Strategic              Standard  \n",
      "4              4             Strategic              Standard  \n",
      "\n",
      "[5 rows x 89 columns]\n"
     ]
    }
   ],
   "source": [
    "data = pd.read_csv(url)\n",
    "print(data.head())"
   ]
  },
  {
   "cell_type": "code",
   "execution_count": null,
   "metadata": {
    "collapsed": true
   },
   "outputs": [],
   "source": [
    "# Loop through schedule dataset to download 2018 season data\n",
    "# will need to determine best method to download all data without dupes"
   ]
  }
 ],
 "metadata": {
  "kernelspec": {
   "display_name": "Python 3",
   "language": "python",
   "name": "python3"
  },
  "language_info": {
   "codemirror_mode": {
    "name": "ipython",
    "version": 3
   },
   "file_extension": ".py",
   "mimetype": "text/x-python",
   "name": "python",
   "nbconvert_exporter": "python",
   "pygments_lexer": "ipython3",
   "version": "3.6.3"
  }
 },
 "nbformat": 4,
 "nbformat_minor": 2
}
